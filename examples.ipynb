{
 "cells": [
  {
   "cell_type": "markdown",
   "metadata": {},
   "source": [
    "Let us take a look at simple example: minimze $(x-2)^2 + (y+3)^2$ for $x$ an unsigned integer, and $y$ an integer. This function takes it minimum at $x=2$ and $y=-3$, and the minimum is equal to $0$. Let us see the result from integer quadratic model.\n",
    "\n",
    "Note, that\n",
    "$$\n",
    "(x-2)^2 + (y+3)^2 = x^2 + y^2 - 4x + 6y + 13\n",
    "$$"
   ]
  },
  {
   "cell_type": "code",
   "execution_count": 1,
   "metadata": {},
   "outputs": [
    {
     "name": "stdout",
     "output_type": "stream",
     "text": [
      "Sample(sample={'x': 2, 'y': -3}, energy=0.0, num_occurrences=1)\n"
     ]
    }
   ],
   "source": [
    "from integer_bqm import IntegerBQM, VarType\n",
    "import dimod\n",
    "\n",
    "\n",
    "if __name__ == '__main__':\n",
    "    ibqm = IntegerBQM()\n",
    "    ibqm.uint_precision = 3\n",
    "    ibqm.int_precision = 4\n",
    "    ibqm.add_variable('x', -4, VarType.UINT)\n",
    "    ibqm.add_variable('y', 6, VarType.INT)\n",
    "    ibqm.add_interaction('x', 'x', 1)\n",
    "    ibqm.add_interaction('y', 'y', 1)\n",
    "    \n",
    "    ibqm.add_offset(13)\n",
    "\n",
    "    sampler = dimod.SimulatedAnnealingSampler()\n",
    "    sampleset = ibqm.sample(sampler, num_reads=10)\n",
    "    print(sampleset.lowest().first)"
   ]
  },
  {
   "cell_type": "code",
   "execution_count": null,
   "metadata": {},
   "outputs": [],
   "source": []
  }
 ],
 "metadata": {
  "kernelspec": {
   "display_name": "Python 3",
   "language": "python",
   "name": "python3"
  },
  "language_info": {
   "codemirror_mode": {
    "name": "ipython",
    "version": 3
   },
   "file_extension": ".py",
   "mimetype": "text/x-python",
   "name": "python",
   "nbconvert_exporter": "python",
   "pygments_lexer": "ipython3",
   "version": "3.7.4"
  }
 },
 "nbformat": 4,
 "nbformat_minor": 4
}
